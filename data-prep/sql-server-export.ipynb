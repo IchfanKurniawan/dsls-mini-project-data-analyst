{
 "cells": [
  {
   "cell_type": "code",
   "execution_count": 1,
   "metadata": {},
   "outputs": [],
   "source": [
    "import pandas as pd\n",
    "import pyodbc "
   ]
  },
  {
   "attachments": {},
   "cell_type": "markdown",
   "metadata": {},
   "source": [
    "### Data Order Detail"
   ]
  },
  {
   "cell_type": "code",
   "execution_count": 3,
   "metadata": {},
   "outputs": [],
   "source": [
    "cnxn = pyodbc.connect(\"Driver={SQL Server Native Client 11.0};\"\n",
    "                      \"Server=LAPTOP-IB3F1EEI\\SQLEXPRESS;\"\n",
    "                      \"Database=Northwind;\"\n",
    "                      \"Trusted_Connection=yes;\")\n",
    "\n",
    "query_order_details = \"\"\"\n",
    "                        SELECT\n",
    "                            od.OrderID\n",
    "                            , od.UnitPrice\n",
    "                            , od.Quantity\n",
    "                            , od.Discount\n",
    "                            , pd.ProductName\n",
    "                            , sp.CompanyName as supplier_company\n",
    "                            , sp.ContactName as supplier_contact_name\n",
    "                            , sp.City as supplier_city\n",
    "                            , sp.Region as supplier_region\n",
    "                            , sp.Country as supplier_country\n",
    "                            , sp.Phone as supplier_phone\n",
    "                            , ct.CategoryName\n",
    "                        FROM [Order Details] od\n",
    "                        LEFT JOIN Products pd ON od.ProductID = pd.ProductID\n",
    "                        LEFT JOIN Suppliers sp ON pd.SupplierID = sp.SupplierID\n",
    "                        LEFT JOIN Categories ct ON pd.CategoryID = ct.CategoryID\n",
    "                        \"\"\"\n",
    "data = pd.read_sql(query_order_details, cnxn)"
   ]
  },
  {
   "cell_type": "code",
   "execution_count": 8,
   "metadata": {},
   "outputs": [],
   "source": [
    "data.to_parquet('.\\\\tables\\order_detail.parquet')"
   ]
  },
  {
   "attachments": {},
   "cell_type": "markdown",
   "metadata": {},
   "source": [
    "### Data Customers"
   ]
  },
  {
   "cell_type": "code",
   "execution_count": 9,
   "metadata": {},
   "outputs": [],
   "source": [
    "cnxn = pyodbc.connect(\"Driver={SQL Server Native Client 11.0};\"\n",
    "                      \"Server=LAPTOP-IB3F1EEI\\SQLEXPRESS;\"\n",
    "                      \"Database=Northwind;\"\n",
    "                      \"Trusted_Connection=yes;\")\n",
    "\n",
    "query_customers = \"\"\"\n",
    "                        SELECT * FROM Customers\n",
    "                        \"\"\"\n",
    "data = pd.read_sql(query_customers, cnxn)"
   ]
  },
  {
   "cell_type": "code",
   "execution_count": 10,
   "metadata": {},
   "outputs": [],
   "source": [
    "data.to_parquet('.\\\\tables\\customers.parquet')"
   ]
  },
  {
   "attachments": {},
   "cell_type": "markdown",
   "metadata": {},
   "source": [
    "### Data Orders"
   ]
  },
  {
   "cell_type": "code",
   "execution_count": 11,
   "metadata": {},
   "outputs": [],
   "source": [
    "cnxn = pyodbc.connect(\"Driver={SQL Server Native Client 11.0};\"\n",
    "                      \"Server=LAPTOP-IB3F1EEI\\SQLEXPRESS;\"\n",
    "                      \"Database=Northwind;\"\n",
    "                      \"Trusted_Connection=yes;\")\n",
    "\n",
    "query_orders = \"\"\"\n",
    "                        SELECT * FROM Orders\n",
    "                        \"\"\"\n",
    "data = pd.read_sql(query_orders, cnxn)"
   ]
  },
  {
   "cell_type": "code",
   "execution_count": 12,
   "metadata": {},
   "outputs": [],
   "source": [
    "data.to_parquet('.\\\\tables\\orders.parquet')"
   ]
  },
  {
   "attachments": {},
   "cell_type": "markdown",
   "metadata": {},
   "source": [
    "### Data Shippers"
   ]
  },
  {
   "cell_type": "code",
   "execution_count": 15,
   "metadata": {},
   "outputs": [],
   "source": [
    "cnxn = pyodbc.connect(\"Driver={SQL Server Native Client 11.0};\"\n",
    "                      \"Server=LAPTOP-IB3F1EEI\\SQLEXPRESS;\"\n",
    "                      \"Database=Northwind;\"\n",
    "                      \"Trusted_Connection=yes;\")\n",
    "\n",
    "query_shippers = \"\"\"\n",
    "                        SELECT * FROM Shippers\n",
    "                        \"\"\"\n",
    "data = pd.read_sql(query_shippers, cnxn)"
   ]
  },
  {
   "cell_type": "code",
   "execution_count": 16,
   "metadata": {},
   "outputs": [],
   "source": [
    "data.to_parquet('.\\\\tables\\shippers.parquet')"
   ]
  },
  {
   "attachments": {},
   "cell_type": "markdown",
   "metadata": {},
   "source": [
    "### Data Employee"
   ]
  },
  {
   "cell_type": "code",
   "execution_count": 18,
   "metadata": {},
   "outputs": [],
   "source": [
    "cnxn = pyodbc.connect(\"Driver={SQL Server Native Client 11.0};\"\n",
    "                      \"Server=LAPTOP-IB3F1EEI\\SQLEXPRESS;\"\n",
    "                      \"Database=Northwind;\"\n",
    "                      \"Trusted_Connection=yes;\")\n",
    "\n",
    "query_employee = \"\"\"\n",
    "                        SELECT\n",
    "                            e.EmployeeID\n",
    "                            , e.FirstName\n",
    "                            , e.LastName\n",
    "                            , e.Title\n",
    "                            , e.BirthDate\n",
    "                            , e.HireDate\n",
    "                            , e.City as emp_city\n",
    "                            , e.Region as emp_region\n",
    "                            , e.Country as emp_country\n",
    "                            , t.TerritoryDescription\n",
    "                            , r.RegionDescription\n",
    "                        FROM Employees e\n",
    "                        LEFT JOIN EmployeeTerritories et ON e.EmployeeID = et.EmployeeID\n",
    "                        LEFT JOIN Territories t ON et.TerritoryID = t.TerritoryID\n",
    "                        LEFT JOIN Region r ON r.RegionID = t.RegionID\n",
    "                        \"\"\"\n",
    "data = pd.read_sql(query_employee, cnxn)"
   ]
  },
  {
   "cell_type": "code",
   "execution_count": 19,
   "metadata": {},
   "outputs": [],
   "source": [
    "data.to_parquet('.\\\\tables\\employee.parquet')"
   ]
  },
  {
   "cell_type": "code",
   "execution_count": 20,
   "metadata": {},
   "outputs": [
    {
     "data": {
      "text/html": [
       "<div>\n",
       "<style scoped>\n",
       "    .dataframe tbody tr th:only-of-type {\n",
       "        vertical-align: middle;\n",
       "    }\n",
       "\n",
       "    .dataframe tbody tr th {\n",
       "        vertical-align: top;\n",
       "    }\n",
       "\n",
       "    .dataframe thead th {\n",
       "        text-align: right;\n",
       "    }\n",
       "</style>\n",
       "<table border=\"1\" class=\"dataframe\">\n",
       "  <thead>\n",
       "    <tr style=\"text-align: right;\">\n",
       "      <th></th>\n",
       "      <th>EmployeeID</th>\n",
       "      <th>FirstName</th>\n",
       "      <th>LastName</th>\n",
       "      <th>Title</th>\n",
       "      <th>BirthDate</th>\n",
       "      <th>HireDate</th>\n",
       "      <th>emp_city</th>\n",
       "      <th>emp_region</th>\n",
       "      <th>emp_country</th>\n",
       "      <th>TerritoryDescription</th>\n",
       "      <th>RegionDescription</th>\n",
       "    </tr>\n",
       "  </thead>\n",
       "  <tbody>\n",
       "    <tr>\n",
       "      <th>0</th>\n",
       "      <td>1</td>\n",
       "      <td>Nancy</td>\n",
       "      <td>Davolio</td>\n",
       "      <td>Sales Representative</td>\n",
       "      <td>1948-12-08</td>\n",
       "      <td>1992-05-01</td>\n",
       "      <td>Seattle</td>\n",
       "      <td>WA</td>\n",
       "      <td>USA</td>\n",
       "      <td>Wilton                                        ...</td>\n",
       "      <td>Eastern                                       ...</td>\n",
       "    </tr>\n",
       "    <tr>\n",
       "      <th>1</th>\n",
       "      <td>1</td>\n",
       "      <td>Nancy</td>\n",
       "      <td>Davolio</td>\n",
       "      <td>Sales Representative</td>\n",
       "      <td>1948-12-08</td>\n",
       "      <td>1992-05-01</td>\n",
       "      <td>Seattle</td>\n",
       "      <td>WA</td>\n",
       "      <td>USA</td>\n",
       "      <td>Neward                                        ...</td>\n",
       "      <td>Eastern                                       ...</td>\n",
       "    </tr>\n",
       "    <tr>\n",
       "      <th>2</th>\n",
       "      <td>2</td>\n",
       "      <td>Andrew</td>\n",
       "      <td>Fuller</td>\n",
       "      <td>Vice President, Sales</td>\n",
       "      <td>1952-02-19</td>\n",
       "      <td>1992-08-14</td>\n",
       "      <td>Tacoma</td>\n",
       "      <td>WA</td>\n",
       "      <td>USA</td>\n",
       "      <td>Westboro                                      ...</td>\n",
       "      <td>Eastern                                       ...</td>\n",
       "    </tr>\n",
       "    <tr>\n",
       "      <th>3</th>\n",
       "      <td>2</td>\n",
       "      <td>Andrew</td>\n",
       "      <td>Fuller</td>\n",
       "      <td>Vice President, Sales</td>\n",
       "      <td>1952-02-19</td>\n",
       "      <td>1992-08-14</td>\n",
       "      <td>Tacoma</td>\n",
       "      <td>WA</td>\n",
       "      <td>USA</td>\n",
       "      <td>Bedford                                       ...</td>\n",
       "      <td>Eastern                                       ...</td>\n",
       "    </tr>\n",
       "    <tr>\n",
       "      <th>4</th>\n",
       "      <td>2</td>\n",
       "      <td>Andrew</td>\n",
       "      <td>Fuller</td>\n",
       "      <td>Vice President, Sales</td>\n",
       "      <td>1952-02-19</td>\n",
       "      <td>1992-08-14</td>\n",
       "      <td>Tacoma</td>\n",
       "      <td>WA</td>\n",
       "      <td>USA</td>\n",
       "      <td>Georgetow                                     ...</td>\n",
       "      <td>Eastern                                       ...</td>\n",
       "    </tr>\n",
       "  </tbody>\n",
       "</table>\n",
       "</div>"
      ],
      "text/plain": [
       "   EmployeeID FirstName LastName                  Title  BirthDate   HireDate  \\\n",
       "0           1     Nancy  Davolio   Sales Representative 1948-12-08 1992-05-01   \n",
       "1           1     Nancy  Davolio   Sales Representative 1948-12-08 1992-05-01   \n",
       "2           2    Andrew   Fuller  Vice President, Sales 1952-02-19 1992-08-14   \n",
       "3           2    Andrew   Fuller  Vice President, Sales 1952-02-19 1992-08-14   \n",
       "4           2    Andrew   Fuller  Vice President, Sales 1952-02-19 1992-08-14   \n",
       "\n",
       "  emp_city emp_region emp_country  \\\n",
       "0  Seattle         WA         USA   \n",
       "1  Seattle         WA         USA   \n",
       "2   Tacoma         WA         USA   \n",
       "3   Tacoma         WA         USA   \n",
       "4   Tacoma         WA         USA   \n",
       "\n",
       "                                TerritoryDescription  \\\n",
       "0  Wilton                                        ...   \n",
       "1  Neward                                        ...   \n",
       "2  Westboro                                      ...   \n",
       "3  Bedford                                       ...   \n",
       "4  Georgetow                                     ...   \n",
       "\n",
       "                                   RegionDescription  \n",
       "0  Eastern                                       ...  \n",
       "1  Eastern                                       ...  \n",
       "2  Eastern                                       ...  \n",
       "3  Eastern                                       ...  \n",
       "4  Eastern                                       ...  "
      ]
     },
     "execution_count": 20,
     "metadata": {},
     "output_type": "execute_result"
    }
   ],
   "source": [
    "data.head()"
   ]
  },
  {
   "cell_type": "code",
   "execution_count": null,
   "metadata": {},
   "outputs": [],
   "source": []
  }
 ],
 "metadata": {
  "kernelspec": {
   "display_name": "Python 3",
   "language": "python",
   "name": "python3"
  },
  "language_info": {
   "codemirror_mode": {
    "name": "ipython",
    "version": 3
   },
   "file_extension": ".py",
   "mimetype": "text/x-python",
   "name": "python",
   "nbconvert_exporter": "python",
   "pygments_lexer": "ipython3",
   "version": "3.9.13"
  },
  "orig_nbformat": 4,
  "vscode": {
   "interpreter": {
    "hash": "5fb3004ce7fbadc0f6fd7b7c6eec3f0a120e94c53e9007dcf53930de1f1c9f1d"
   }
  }
 },
 "nbformat": 4,
 "nbformat_minor": 2
}
